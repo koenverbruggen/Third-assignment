{
 "cells": [
  {
   "cell_type": "markdown",
   "metadata": {},
   "source": [
    "Koen Verbruggen 459785 and Leon Bremer 637885"
   ]
  },
  {
   "cell_type": "markdown",
   "metadata": {},
   "source": [
    "<head>\n",
    "<title>Python Solow model - Koen and Leon</title>\n",
    "</head>\n",
    "\n",
    "#Numerical Simulation assignment 3 - Python\n",
    "##How do savings affect income in the Solow model?\n",
    "\n",
    "[Koen Verbruggen](http://koenverbruggen.github.io/cv/) and [Leon Bremer](http://leonbremer.github.io/cv/index.html)\n",
    "\n",
    "April 14, 2016\n",
    "\n",
    "For the third assignment of the Method course Numerical Simulation we will analyze the Solow model from macroeconomic theory by using the Python programming language. As for many well-known economic theories, people have already tried to program them in Python and therefore we would like to mention [this page](http://nbviewer.jupyter.org/urls/dl.dropbox.com/s/sgu3luzs1aypui3/Solow2.ipynb) as a reference for our work.\n",
    "\n",
    "##Motivation\n",
    "\n",
    "We are both very much interested in economic growth and we have analyzed the Solow model to a great extend in the Bachelor course Macroeconomics 4 and in the Master course Growth and Regional Development. As this model has been very important in the economic literature, it is highly relevant to analyze it. Furthermore the formulas used in the model are very suitable for an analysis in Python.\n",
    "\n",
    "To have a specific aim for this assignment, we will try to answer the following question:\n",
    "\n",
    "\"How do savings affect income per capita in the Solow model?\"\n",
    "\n",
    "We will explain the underlying intuition of the [Solow model](https://en.wikipedia.org/wiki/Solow%E2%80%93Swan_model). We will show the formulas in the LaTeX typesetting and where possible we will visualize the formulas and results by creating (interactive) graphs.\n",
    "\n",
    "The method applied is based on the calculation of a [steady state](#steadystate) and the presentation of graphs. To find out what effect savings can have on per capita income, we will perform a [sensitivity analysis](#sensitivity). Applying different savings rates to our model will give a feeling of its effect on income. Furthermore we will test our theory to [real data](#realdata) and we will [discuss](#discussion) our findings."
   ]
  },
  {
   "cell_type": "code",
   "execution_count": 2,
   "metadata": {
    "collapsed": false
   },
   "outputs": [],
   "source": [
    "#Start with importing the packages.\n",
    "import matplotlib.pyplot as plt\n",
    "import numpy as np\n",
    "import scipy.integrate\n",
    "import scipy.optimize\n",
    "%matplotlib inline\n",
    "%precision 4\n",
    "from __future__ import division\n",
    "import plotly\n"
   ]
  },
  {
   "cell_type": "markdown",
   "metadata": {},
   "source": [
    "##The Solow model\n",
    "\n",
    "The Solow model is based on a Cobb-Douglas production function\n",
    "$$Y = (K)^\\alpha (AL)^{1-\\alpha}$$\n",
    "where $Y$ is the economy's output, $K$ is the capital stock, $L$ is the amount of workers, $A$ is a measure for technology, and $\\alpha$ is the income share of labor.\n",
    "\n",
    "Furthermore it is assumed that people save a share of $s$ of their income, meaning that in total $S$ is saved and invested.\n",
    "$$S=I=sY$$\n",
    "At a rate of $s$ capital is accumulated, but at a rate of $\\delta$ capital is also depreciated. So the change in the total capital stock can be calculated as\n",
    "$$\\Delta K = sY-\\delta K$$."
   ]
  },
  {
   "cell_type": "markdown",
   "metadata": {},
   "source": [
    "###The intensive form\n",
    "\n",
    "As there are three inputs in the Solow model ($A$, $K$, and $L$) it is useful to isolate the effective capital per capita. As one can imagine, income per capita might be higher when capital per capita is higher. Therefore the formulas will be rewritten per effective worker, meaning per $AL$. This results in the following key intensive form equations.\n",
    "$$k = \\frac{K}{AL}$$\n",
    "$$y = \\frac{Y}{AL} = (K)^\\alpha (AL)^{1-\\alpha} (AL)^{-1} = k^\\alpha$$ "
   ]
  },
  {
   "cell_type": "markdown",
   "metadata": {},
   "source": [
    "###Steady state<a name=\"steadystate\"></a>\n",
    "\n",
    "In the Solow model, the economy moves towards its steady state. This steady state exists, due to two opposite forces, namely (1) investments in capital from peoples' savings $sy$ and (2) depreciation of the current capital stock per effective worker $(g+n+\\delta)k$. These two opposite forces will bring the economy to the steady state where $sy = (g+n+\\delta)k$, where $n$ is the population growth rate and $g$ is the growth rate of technological change.\n",
    "\n",
    "As we have just seen that $y=k^\\alpha$, we can rewrite the above equation and isolate the steady state level of $k$, which is denoted as $k^*$.\n",
    "\n",
    "$$sy = (g+n+\\delta)k$$\n",
    "$$sk^\\alpha = (g+n+\\delta)k$$\n",
    "$$k^(\\alpha-1) = \\frac{(g+n+\\delta)}{s}$$\n",
    "$$k^* = \\frac{g+n+\\delta}{s}^\\frac{1}{\\alpha-1}$$"
   ]
  },
  {
   "cell_type": "markdown",
   "metadata": {},
   "source": [
    "##Estimation of the model\n",
    "\n",
    "We will have to define the parameters of the Solow model in order to estimate the variables. We chose the parameters as they are most common in macroeconomic theory."
   ]
  },
  {
   "cell_type": "code",
   "execution_count": 3,
   "metadata": {
    "collapsed": false
   },
   "outputs": [],
   "source": [
    "alpha = (1/3)\n",
    "delta = 0.05\n",
    "g = 0.02\n",
    "n = 0.02\n",
    "s = 0.25\n",
    "kss = ((g+n+delta)/s)**(1/(alpha-1)) #kss = steady state capital stock per effective worker\n",
    "yss = kss**alpha\n",
    "syss = s*yss"
   ]
  },
  {
   "cell_type": "markdown",
   "metadata": {},
   "source": [
    "We enter the three equations needed to show the steady state graphically. Using the mathplotlib package, we can then draw the three lines and show how the steady state looks like."
   ]
  },
  {
   "cell_type": "code",
   "execution_count": 4,
   "metadata": {
    "collapsed": false
   },
   "outputs": [
    {
     "data": {
      "text/plain": [
       "<matplotlib.text.Text at 0x1db6deb8>"
      ]
     },
     "execution_count": 4,
     "metadata": {},
     "output_type": "execute_result"
    },
    {
     "data": {
      "image/png": "[encoded data removed]",
      "text/plain": [
       "<matplotlib.figure.Figure at 0x3cd4128>"
      ]
     },
     "metadata": {},
     "output_type": "display_data"
    }
   ],
   "source": [
    "ks = np.arange(0, kss*2, 0.01); #Sets the range of the x-axis.\n",
    "ys = ks**alpha #Make all lines a function of the x-axis variable ks.\n",
    "ss = s*ys\n",
    "gk = (g+n+delta)*ks\n",
    "plt.plot(ks, ys, \"b\",label=\"f(k)\")\n",
    "plt.plot(ks, ss, \"g\", label=\"sf(k)\")\n",
    "plt.plot(ks, gk, \"r\", label=\"(g+n+delta)k\")\n",
    "plt.axvline(x=kss,color=\"thistle\",linestyle=\"--\")\n",
    "plt.legend(bbox_to_anchor=(1.05, 1), loc=2, borderaxespad=0.)\n",
    "plt.title(\"Steady state\")"
   ]
  },
  {
   "cell_type": "markdown",
   "metadata": {},
   "source": [
    "Besides visualizing the steady state, we can also use Python to calculate the steady state values of $y$, $k$, and $sy$ respectively."
   ]
  },
  {
   "cell_type": "code",
   "execution_count": 5,
   "metadata": {
    "collapsed": false
   },
   "outputs": [
    {
     "name": "stdout",
     "output_type": "stream",
     "text": [
      "1.66666666667\n",
      "4.62962962963\n",
      "0.416666666667\n"
     ]
    }
   ],
   "source": [
    "print yss\n",
    "print kss\n",
    "print syss"
   ]
  },
  {
   "cell_type": "markdown",
   "metadata": {},
   "source": [
    "##Sensitivity analysis<a name=\"sensitivity\"></a>\n",
    "\n",
    "We have seen how the steady state values of the Solow model are calculated under the most common assumptions. Now we investigate what happens when we change the savings rate. Let us first increase the savings rate significantly up to 0.5, meaning that people save 50% of their disposable income."
   ]
  },
  {
   "cell_type": "code",
   "execution_count": 6,
   "metadata": {
    "collapsed": false
   },
   "outputs": [
    {
     "data": {
      "text/plain": [
       "<matplotlib.text.Text at 0x1deb2128>"
      ]
     },
     "execution_count": 6,
     "metadata": {},
     "output_type": "execute_result"
    },
    {
     "data": {
      "image/png": "[encoded data removed]",
      "text/plain": [
       "<matplotlib.figure.Figure at 0x1db60f98>"
      ]
     },
     "metadata": {},
     "output_type": "display_data"
    }
   ],
   "source": [
    "#Increasing the savings rate\n",
    "\n",
    "s = 0.5\n",
    "kss = ((g+n+delta)/s)**(1/(alpha-1))\n",
    "yss = kss**alpha\n",
    "syss = s*yss\n",
    "\n",
    "ks = np.arange(0, kss*2, 0.01);\n",
    "ys = ks**alpha\n",
    "ss = s*ys\n",
    "gk = (g+n+delta)*ks\n",
    "plt.plot(ks, ys, \"b\",label=\"f(k)\")\n",
    "plt.plot(ks, ss, \"g\", label=\"sf(k)\")\n",
    "plt.plot(ks, gk, \"r\", label=\"(g+n+delta)k\")\n",
    "plt.axvline(x=kss,color=\"thistle\",linestyle=\"--\")\n",
    "plt.legend(bbox_to_anchor=(1.05, 1), loc=2, borderaxespad=0.)\n",
    "plt.title(\"Steady state\")"
   ]
  },
  {
   "cell_type": "code",
   "execution_count": 7,
   "metadata": {
    "collapsed": false
   },
   "outputs": [
    {
     "name": "stdout",
     "output_type": "stream",
     "text": [
      "2.35702260396\n",
      "13.094570022\n",
      "1.17851130198\n"
     ]
    }
   ],
   "source": [
    "print yss\n",
    "print kss\n",
    "print syss"
   ]
  },
  {
   "cell_type": "markdown",
   "metadata": {},
   "source": [
    "What we see is that the higher savings causes the steady state income level to increase significantly, from 1.67 to 2.36. The economic intuition from the Solow model is as follows. Higher savings means that investment in capital is higher. As capital is one of the main inputs in this economy, more capital increases potential output. This investment in capital formation therefore increases steady state income levels. Noticeable is that the steady state capital level has to increase significantly (from 4.6 to 13.1) to realize the change in income level. This is due to the diminishing marginal productivity of input factors. Increasing just one input factor will have a positive, but diminishing effect on output.\n",
    "\n",
    "Let's now analyze what happens when the savings rate is decreased to 10%."
   ]
  },
  {
   "cell_type": "code",
   "execution_count": 8,
   "metadata": {
    "collapsed": false
   },
   "outputs": [
    {
     "data": {
      "text/plain": [
       "<matplotlib.text.Text at 0x1fb9fa20>"
      ]
     },
     "execution_count": 8,
     "metadata": {},
     "output_type": "execute_result"
    },
    {
     "data": {
      "image/png": "[encoded data removed]",
      "text/plain": [
       "<matplotlib.figure.Figure at 0x1de42c88>"
      ]
     },
     "metadata": {},
     "output_type": "display_data"
    }
   ],
   "source": [
    "#Decreasing the savings rate\n",
    "\n",
    "s = 0.1\n",
    "kss = ((g+n+delta)/s)**(1/(alpha-1))\n",
    "yss = kss**alpha\n",
    "syss = s*yss\n",
    "\n",
    "ks = np.arange(0, kss*2, 0.01);\n",
    "ys = ks**alpha\n",
    "ss = s*ys\n",
    "gk = (g+n+delta)*ks\n",
    "plt.plot(ks, ys, \"b\",label=\"f(k)\")\n",
    "plt.plot(ks, ss, \"g\", label=\"sf(k)\")\n",
    "plt.plot(ks, gk, \"r\", label=\"(g+n+delta)k\")\n",
    "plt.axvline(x=kss,color=\"thistle\",linestyle=\"--\")\n",
    "plt.legend(bbox_to_anchor=(1.05, 1), loc=2, borderaxespad=0.)\n",
    "plt.title(\"Steady state\")"
   ]
  },
  {
   "cell_type": "code",
   "execution_count": 9,
   "metadata": {
    "collapsed": false
   },
   "outputs": [
    {
     "name": "stdout",
     "output_type": "stream",
     "text": [
      "1.05409255339\n",
      "1.17121394821\n",
      "0.105409255339\n"
     ]
    }
   ],
   "source": [
    "print yss\n",
    "print kss\n",
    "print syss"
   ]
  },
  {
   "cell_type": "markdown",
   "metadata": {},
   "source": [
    "The plotted lines takes the same shape as in the previous two graphs. Steady state income now is 1.05 (cf. 1.67 in the 'normal' state). As expected from the theory, a decrease in the savings rate has a negative impact on capital accumulation, capital stock, and potential output."
   ]
  },
  {
   "cell_type": "markdown",
   "metadata": {},
   "source": [
    "##Real data<a name=\"realdata\"></a>\n",
    "\n",
    "To test whether the model is supported by real life observations, we will present a graph depicting the savings rate and the income level of countries. The Solow model predicts that countries with a high savings rate have higher per capita income. Therefore we collected data from 30 OECD countries on their [savings rate](https://data.oecd.org/hha/household-savings.htm) and their [GDP per capita](https://data.oecd.org/gdp/gross-domestic-product-gdp.htm) for the year 2005.\n",
    "\n",
    "Surprising is that the two variables do not show a clear positive relationship, but rather show a weak negative relationship instead."
   ]
  },
  {
   "cell_type": "code",
   "execution_count": 10,
   "metadata": {
    "collapsed": false,
    "scrolled": true
   },
   "outputs": [
    {
     "data": {
      "text/html": [
       "<iframe id=\"igraph\" scrolling=\"no\" style=\"border:none;\" seamless=\"seamless\" src=\"https://plot.ly/~leonbremer/2.embed\" height=\"525\" width=\"100%\"></iframe>"
      ],
      "text/plain": [
       "<plotly.tools.PlotlyDisplay object>"
      ]
     },
     "execution_count": 10,
     "metadata": {},
     "output_type": "execute_result"
    }
   ],
   "source": [
    "import plotly.tools as tls\n",
    "tls.embed('https://plot.ly/~leonbremer/2')"
   ]
  },
  {
   "cell_type": "markdown",
   "metadata": {},
   "source": [
    "Furthermore we can test whether savings rates might have an impact on GDP growth rates. Through the dynamics of the Solow model we expect that higher savings rates cause a shift towards a larger capital stock and a higher GDP level. If countries are therefore in a transition towards their steady state, we would expect that higher savings rates would positively affect GDP growth figures. Therefore in the graph below, we test this theory for data from [The World Bank](http://data.worldbank.org/indicator/NY.GDP.PCAP.KD.ZG) on 153 countries. This graph seems to weakly support our theory. The fitted line is slightly upward sloping, indicating a positive relationship between savings and income growth. It should be noticed that this relationship is weak, as the scatter shows the large variance in observations."
   ]
  },
  {
   "cell_type": "code",
   "execution_count": 11,
   "metadata": {
    "collapsed": false
   },
   "outputs": [
    {
     "data": {
      "text/html": [
       "<iframe id=\"igraph\" scrolling=\"no\" style=\"border:none;\" seamless=\"seamless\" src=\"https://plot.ly/~KoenVerbruggen/21.embed\" height=\"525\" width=\"100%\"></iframe>"
      ],
      "text/plain": [
       "<plotly.tools.PlotlyDisplay object>"
      ]
     },
     "execution_count": 11,
     "metadata": {},
     "output_type": "execute_result"
    }
   ],
   "source": [
    "import plotly.tools as tls\n",
    "tls.embed('https://plot.ly/~KoenVerbruggen/21')"
   ]
  },
  {
   "cell_type": "markdown",
   "metadata": {
    "collapsed": true
   },
   "source": [
    "##Discussion<a name=\"discussion\"></a>\n",
    "\n",
    "We have analyzed the Solow model and performed a sensitivity analysis on the savings rate. It turns out that within the model higher savings rates are predicted to increase income levels per capita. We have shown this through the calculations of the steady state values and through the visualization of the Solow model in three graphs.\n",
    "\n",
    "Furthermore we tested the Solow model on real data collected from the [OECD](http://www.oecd.org/) and [The World Bank](http://www.worldbank.org/). We were not able to convincingly support the theory with the data we collected. From the data it showed that there are weak negative and weak positive relationships between the savings rate and the income level and the income growth rate respectively.\n",
    "\n",
    "A potential problem for this analysis is that we assumed that all savings are invested in capital. This could only be the case for closed economies. Nowadays economies are strongly interconnected and international investment flows are very common. This could lead to a gap between savings and investments. Countries could actually invest heavily in capital if there are many foreign investments, while domestic savings rates are low.\n",
    "\n",
    "###Technological change as the only source of long term growth\n",
    "\n",
    "To finish this excercise, we would like to discuss the shortcomings of the Solow model and the alternative economic theories available.\n",
    "\n",
    "[Above](#steadystate) we showed how the steady state was calculated. We have also shown that in this steady state output per effective worker is constant, so it is not possible to have perpetual economic growth. We have not yet calculated the most interesting variable for economic prosperity, which is income per worker (or per person) $\\frac{Y}{L}$. This variable can easily be derived from the $y$ variable, as $\\frac{Y}{L} = Ay$.\n",
    "\n",
    "As we have seen that the growth rate of $y$ is zero in the long run, income per worker will grow at $g$. Since this rate $g$ is not explained within the model, the Solow model is considered to be an exogenous growth model. More recently economics has focussed on the explanation for technological change within the models. These newer models are part of the [endogenous growth theories](http://www.investopedia.com/terms/e/endogenousgrowththeory.asp)."
   ]
  }
 ],
 "metadata": {
  "kernelspec": {
   "display_name": "Python 2",
   "language": "python",
   "name": "python2"
  },
  "language_info": {
   "codemirror_mode": {
    "name": "ipython",
    "version": 2
   },
   "file_extension": ".py",
   "mimetype": "text/x-python",
   "name": "python",
   "nbconvert_exporter": "python",
   "pygments_lexer": "ipython2",
   "version": "2.7.11"
  }
 },
 "nbformat": 4,
 "nbformat_minor": 0
}
